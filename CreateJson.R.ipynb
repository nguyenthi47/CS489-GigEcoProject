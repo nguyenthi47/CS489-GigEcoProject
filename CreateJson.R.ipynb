{
 "cells": [
  {
   "cell_type": "code",
   "execution_count": 50,
   "metadata": {},
   "outputs": [],
   "source": [
    "import json\n",
    "from itertools import product"
   ]
  },
  {
   "cell_type": "code",
   "execution_count": 51,
   "metadata": {},
   "outputs": [],
   "source": [
    "data = {}\n",
    "data['combinations'] = []\n",
    "rawValue = [['9am-5pm required','Totally flexible'],\n",
    "        ['Minimum 8h','Minimum 4h','Work as much as you want/need'],\n",
    "        ['Fixed US$500.00','Fixed US$250.00 + US$6.25 per hour' , 'US$12.50 per hour'],\n",
    "        ['Daily', 'Monthly', 'Yearly'],\n",
    "        ['Paid, but following company policies', 'Unpaid, but whenever you want'],\n",
    "        ['Yes', 'No'],\n",
    "        ['Yes', 'An algorithm', 'No']\n",
    "    ]"
   ]
  },
  {
   "cell_type": "code",
   "execution_count": 52,
   "metadata": {},
   "outputs": [],
   "source": [
    "combinations = list(product(*rawValue))\n",
    "for c in combinations:\n",
    "    period = c[0]\n",
    "    length = c[1]\n",
    "    salary = c[2]\n",
    "    if period == '9am-5pm required' and length != 'Minimum 8h':\n",
    "        continue\n",
    "#     if period == '9am-5pm required' and salary == 'Fixed US$250.00 + US$6.25 per hour':\n",
    "#         continue\n",
    "#     if period == '9am-5pm required' and salary == 'US$12.50 per hour':\n",
    "#         continue \n",
    "    data['combinations'].append({\n",
    "    'Working hours (time period)' : period,\n",
    "    'Working hours (length)' : length,\n",
    "    'Salary' : salary,\n",
    "    'Evaluation' : c[3],\n",
    "    'Day off' : c[4],\n",
    "    'Working Options (companies in same sector)' : c[5],\n",
    "    'Direct Supervisor' : c[6]\n",
    "    })"
   ]
  },
  {
   "cell_type": "code",
   "execution_count": 53,
   "metadata": {},
   "outputs": [],
   "source": [
    "from collections import Counter"
   ]
  },
  {
   "cell_type": "code",
   "execution_count": 54,
   "metadata": {},
   "outputs": [
    {
     "name": "stdout",
     "output_type": "stream",
     "text": [
      "Counter({'Totally flexible': 324, '9am-5pm required': 108})\n",
      "Counter({'Minimum 8h': 216, 'Minimum 4h': 108, 'Work as much as you want/need': 108})\n",
      "Counter({'Fixed US$500.00': 144, 'Fixed US$250.00 + US$6.25 per hour': 144, 'US$12.50 per hour': 144})\n",
      "Counter({'Daily': 144, 'Monthly': 144, 'Yearly': 144})\n",
      "Counter({'Paid, but following company policies': 216, 'Unpaid, but whenever you want': 216})\n",
      "Counter({'Yes': 216, 'No': 216})\n",
      "Counter({'Yes': 144, 'An algorithm': 144, 'No': 144})\n"
     ]
    }
   ],
   "source": [
    "for i in ['Working hours (time period)', 'Working hours (length)',\n",
    "          'Salary', 'Evaluation', \"Day off\", \n",
    "          'Working Options (companies in same sector)', 'Direct Supervisor']:\n",
    "    print(Counter(list(map(lambda x: x[i], data[\"combinations\"]))))"
   ]
  },
  {
   "cell_type": "code",
   "execution_count": 55,
   "metadata": {},
   "outputs": [],
   "source": [
    "with open('totalCombinations.txt', 'w') as outfile:\n",
    "    json.dump(data, outfile)"
   ]
  },
  {
   "cell_type": "code",
   "execution_count": null,
   "metadata": {},
   "outputs": [],
   "source": []
  }
 ],
 "metadata": {
  "kernelspec": {
   "display_name": "Python 3",
   "language": "python",
   "name": "python3"
  },
  "language_info": {
   "codemirror_mode": {
    "name": "ipython",
    "version": 3
   },
   "file_extension": ".py",
   "mimetype": "text/x-python",
   "name": "python",
   "nbconvert_exporter": "python",
   "pygments_lexer": "ipython3",
   "version": "3.7.6"
  }
 },
 "nbformat": 4,
 "nbformat_minor": 2
}
