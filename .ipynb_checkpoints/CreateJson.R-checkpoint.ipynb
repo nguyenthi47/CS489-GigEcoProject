{
 "cells": [
  {
   "cell_type": "code",
   "execution_count": 23,
   "metadata": {},
   "outputs": [],
   "source": [
    "import json\n",
    "from itertools import product"
   ]
  },
  {
   "cell_type": "code",
   "execution_count": 24,
   "metadata": {},
   "outputs": [],
   "source": [
    "data = {}\n",
    "data['combinations'] = []\n",
    "rawValue = [['9am-5pm','Totally flexible', '9am-5pm', '9am-5pm', '9am-5pm'],\n",
    "        ['8h','Minimum 4h','Work as much as you want/need'],\n",
    "        ['Fixed US$500.00','Fixed US$250.00 + US$6.25 per hour' , 'US$12.50 per hour'],\n",
    "        ['Daily', 'Monthly', 'Yearly'],\n",
    "        ['Paid, but following company policies', 'Unpaid, but whenever you want'],\n",
    "        ['Yes', 'No'],\n",
    "        ['Yes', 'An algorithm', 'No']\n",
    "    ]"
   ]
  },
  {
   "cell_type": "code",
   "execution_count": 25,
   "metadata": {},
   "outputs": [],
   "source": [
    "combinations = list(product(*rawValue))\n",
    "for c in combinations:\n",
    "    period = c[0]\n",
    "    length = c[1]\n",
    "    salary = c[2]\n",
    "    if period == '9am-5pm' and length != '8h':\n",
    "        continue\n",
    "    if period == '9am-5pm' and salary == 'Fixed US$250.00 + US$6.25 per hour':\n",
    "        continue\n",
    "    if period == '9am-5pm' and salary == 'US$12.50 per hour':\n",
    "        continue \n",
    "    data['combinations'].append({\n",
    "    'Working hours (time period)' : period,\n",
    "    'Working hours (length)' : length,\n",
    "    'Salary' : salary,\n",
    "    'Evaluation' : c[3],\n",
    "    'Day off' : c[4],\n",
    "    'Working Options (companies in same sector)' : c[5],\n",
    "    'Direct Supervisor' : c[6]\n",
    "    })"
   ]
  },
  {
   "cell_type": "code",
   "execution_count": 26,
   "metadata": {},
   "outputs": [],
   "source": [
    "from collections import Counter"
   ]
  },
  {
   "cell_type": "code",
   "execution_count": 27,
   "metadata": {},
   "outputs": [
    {
     "data": {
      "text/plain": [
       "Counter({'9am-5pm': 144, 'Totally flexible': 324})"
      ]
     },
     "execution_count": 27,
     "metadata": {},
     "output_type": "execute_result"
    }
   ],
   "source": [
    "Counter(list(map(lambda x: x[\"Working hours (time period)\"], data[\"combinations\"])))"
   ]
  },
  {
   "cell_type": "code",
   "execution_count": null,
   "metadata": {},
   "outputs": [],
   "source": [
    "with open('totalCombinations.txt', 'w') as outfile:\n",
    "    json.dump(data, outfile)"
   ]
  }
 ],
 "metadata": {
  "kernelspec": {
   "display_name": "Python 3",
   "language": "python",
   "name": "python3"
  },
  "language_info": {
   "codemirror_mode": {
    "name": "ipython",
    "version": 3
   },
   "file_extension": ".py",
   "mimetype": "text/x-python",
   "name": "python",
   "nbconvert_exporter": "python",
   "pygments_lexer": "ipython3",
   "version": "3.7.6"
  }
 },
 "nbformat": 4,
 "nbformat_minor": 2
}
